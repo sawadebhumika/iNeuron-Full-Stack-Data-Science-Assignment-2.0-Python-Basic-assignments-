{
 "cells": [
  {
   "cell_type": "markdown",
   "id": "484e081c",
   "metadata": {},
   "source": [
    "##### 1.What are the two values of the Boolean data type? How do you write them?"
   ]
  },
  {
   "cell_type": "markdown",
   "id": "536044a8",
   "metadata": {},
   "source": [
    "The two values of the Boolean data type are True and False and we write it as T and F respectively"
   ]
  },
  {
   "cell_type": "markdown",
   "id": "b8f601db",
   "metadata": {},
   "source": [
    "##### 2. What are the three different types of Boolean operators?"
   ]
  },
  {
   "cell_type": "markdown",
   "id": "5fa6608c",
   "metadata": {},
   "source": [
    "The three different types of Boolean operators are AND, OR, NOT "
   ]
  },
  {
   "cell_type": "markdown",
   "id": "e1b5fce7",
   "metadata": {},
   "source": [
    "##### 3. Make a list of each Boolean operator's truth tables (i.e. every possible combination of Boolean values for the operator and what it evaluate )."
   ]
  },
  {
   "cell_type": "markdown",
   "id": "0021fadb",
   "metadata": {},
   "source": [
    "    True is 1 and False is 0:               a b output\n",
    "        AND:\n",
    "            True And True  = True           1 1 1\n",
    "            False And False  = False        0 0 0\n",
    "            True And False  = False         1 0 0\n",
    "            False And True  = False         0 1 0\n",
    "        OR:\n",
    "            True Or True  = True            1 1 1\n",
    "            False Or False  = False         0 0 0\n",
    "            True Or False  = True           1 0 1\n",
    "            False Or True  = True           0 1 1\n",
    "        NOT:\n",
    "            Not True = False                  1 0\n",
    "            Not False = True                  0 1"
   ]
  },
  {
   "cell_type": "markdown",
   "id": "4ce91c13",
   "metadata": {},
   "source": [
    "##### 4. What are the values of the following expressions?\n",
    "    (5 > 4) and (3 == 5)\n",
    "    not (5 > 4)\n",
    "    (5 > 4) or (3 == 5)\n",
    "    not ((5 > 4) or (3 == 5))\n",
    "    (True and True) and (True == False)\n",
    "    (not False) or (not True)"
   ]
  },
  {
   "cell_type": "markdown",
   "id": "75bd222a",
   "metadata": {},
   "source": [
    "    (5 > 4) and (3 == 5) : False\n",
    "    not (5 > 4)          : False\n",
    "    (5 > 4) or (3 == 5)  : True\n",
    "    not ((5 > 4) or (3 == 5))           : False\n",
    "    (True and True) and (True == False) : False\n",
    "    (not False) or (not True)           : True"
   ]
  },
  {
   "cell_type": "markdown",
   "id": "4f1ad20b",
   "metadata": {},
   "source": [
    "##### 5. What are the six comparison operators?"
   ]
  },
  {
   "cell_type": "markdown",
   "id": "6cb11e96",
   "metadata": {},
   "source": [
    "The six comparison operators are : ==, >, <, !=, <=, >="
   ]
  },
  {
   "cell_type": "markdown",
   "id": "08ff14f4",
   "metadata": {},
   "source": [
    "##### 6. How do you tell the difference between the equal to and assignment operators?Describe a condition and when you would use one."
   ]
  },
  {
   "cell_type": "markdown",
   "id": "461e559a",
   "metadata": {},
   "source": [
    "Whenever we want to assign a value we use \"=\" and when we want to compare the two values we use \"==\" sign"
   ]
  },
  {
   "cell_type": "markdown",
   "id": "07a5e1d5",
   "metadata": {},
   "source": [
    "##### 7. Identify the three blocks in this code:\n",
    "    spam = 0\n",
    "        if spam == 10:\n",
    "        print('eggs')\n",
    "    if spam > 5:\n",
    "        print('bacon')\n",
    "    else:\n",
    "        print('ham')\n",
    "        print('spam')\n",
    "        print('spam')"
   ]
  },
  {
   "cell_type": "markdown",
   "id": "03d2a000",
   "metadata": {},
   "source": [
    "    spam = 0\n",
    "        if spam == 10:\n",
    "        print('eggs')   # Block1 \n",
    "    if spam > 5:\n",
    "        print('bacon')  # Block 2\n",
    "    else:\n",
    "        print('ham')    # Block 3\n",
    "        print('spam')\n",
    "        print('spam')"
   ]
  },
  {
   "cell_type": "markdown",
   "id": "b6556402",
   "metadata": {},
   "source": [
    "##### 8. Write code that prints Hello if 1 is stored in spam, prints Howdy if 2 is stored in spam, and prints Greetings! if anything else is stored in spam."
   ]
  },
  {
   "cell_type": "code",
   "execution_count": 17,
   "id": "731dd539",
   "metadata": {
    "scrolled": true
   },
   "outputs": [
    {
     "name": "stdout",
     "output_type": "stream",
     "text": [
      "8\n",
      "Greetings!\n"
     ]
    }
   ],
   "source": [
    "spam = int(input())\n",
    "if spam == 1:\n",
    "    print(\"Hello\")\n",
    "elif spam == 2:\n",
    "    print(\"Howdy\")\n",
    "else:\n",
    "    print(\"Greetings!\")"
   ]
  },
  {
   "cell_type": "markdown",
   "id": "91262ce1",
   "metadata": {},
   "source": [
    "##### 9 .If your programme is stuck in an endless loop, what keys you’ll press?"
   ]
  },
  {
   "cell_type": "markdown",
   "id": "52b2e0ed",
   "metadata": {},
   "source": [
    "Press Ctrl+C, if your programme is stuck in an endless loop  "
   ]
  },
  {
   "cell_type": "markdown",
   "id": "a866ebc0",
   "metadata": {},
   "source": [
    "##### 10. How can you tell the difference between break and continue?"
   ]
  },
  {
   "cell_type": "markdown",
   "id": "2341743e",
   "metadata": {},
   "source": [
    "A break statement in python alters the flow of a loop by terminating it once a specified condition is met. \n",
    "\n",
    "The continue statement in python is used to skip the remaining code inside a loop for the current iteration only"
   ]
  },
  {
   "cell_type": "markdown",
   "id": "e9cfdfde",
   "metadata": {},
   "source": [
    "##### 11. In a for loop, what is the difference between range(10), range(0, 10), and range(0, 10, 1)?"
   ]
  },
  {
   "cell_type": "markdown",
   "id": "a79e22ad",
   "metadata": {},
   "source": [
    "All the gives the same output. The range(10), call ranges from 0 upto 10(not included), range(0,10) explicitly tells the loop to start at 0. The range(0,10,1) explicitly tells the loop to increase the variable by 1 on each iteration "
   ]
  },
  {
   "cell_type": "markdown",
   "id": "d2482887",
   "metadata": {},
   "source": [
    "##### 12. Write a short program that prints the numbers 1 to 10 using a for loop. Then write an equivalent program that prints the numbers 1 to 10 using a while loop."
   ]
  },
  {
   "cell_type": "code",
   "execution_count": 13,
   "id": "17b13b5a",
   "metadata": {},
   "outputs": [
    {
     "name": "stdout",
     "output_type": "stream",
     "text": [
      "1\n",
      "2\n",
      "3\n",
      "4\n",
      "5\n",
      "6\n",
      "7\n",
      "8\n",
      "9\n",
      "10\n"
     ]
    }
   ],
   "source": [
    "for i in range(1,11):\n",
    "    print(i)"
   ]
  },
  {
   "cell_type": "code",
   "execution_count": 15,
   "id": "bcbb6a53",
   "metadata": {},
   "outputs": [
    {
     "name": "stdout",
     "output_type": "stream",
     "text": [
      "1\n",
      "2\n",
      "3\n",
      "4\n",
      "5\n",
      "6\n",
      "7\n",
      "8\n",
      "9\n",
      "10\n"
     ]
    }
   ],
   "source": [
    "i = 1\n",
    "while i<=10:\n",
    "    print(i)\n",
    "    i = i+1"
   ]
  },
  {
   "cell_type": "markdown",
   "id": "de273b7e",
   "metadata": {},
   "source": [
    "##### 13. If you had a function named bacon() inside a module named spam, how would you call it after importing spam?"
   ]
  },
  {
   "cell_type": "markdown",
   "id": "8a8dfb02",
   "metadata": {},
   "source": [
    "import spam\n",
    "spam.bacon()"
   ]
  }
 ],
 "metadata": {
  "kernelspec": {
   "display_name": "Python 3 (ipykernel)",
   "language": "python",
   "name": "python3"
  },
  "language_info": {
   "codemirror_mode": {
    "name": "ipython",
    "version": 3
   },
   "file_extension": ".py",
   "mimetype": "text/x-python",
   "name": "python",
   "nbconvert_exporter": "python",
   "pygments_lexer": "ipython3",
   "version": "3.10.9"
  }
 },
 "nbformat": 4,
 "nbformat_minor": 5
}
