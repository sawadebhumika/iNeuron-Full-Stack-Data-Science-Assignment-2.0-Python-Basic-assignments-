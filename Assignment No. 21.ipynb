{
 "cells": [
  {
   "cell_type": "markdown",
   "id": "c419f9d1",
   "metadata": {},
   "source": [
    "###### 1. Add the current date to the text file today.txt as a string."
   ]
  },
  {
   "cell_type": "code",
   "execution_count": 1,
   "id": "b4b9bedb",
   "metadata": {},
   "outputs": [
    {
     "name": "stdout",
     "output_type": "stream",
     "text": [
      "07-06-2023\n"
     ]
    }
   ],
   "source": [
    "import datetime\n",
    "# Code to Add current date to the today.txt file\n",
    "file = open('today.txt','w')\n",
    "file.write(datetime.datetime.now().strftime(\"%d-%m-%Y\"))\n",
    "file.close()\n",
    "# Code to Read current date from today.txt file\n",
    "file = open('today.txt','r')\n",
    "print(file.read())\n",
    "file.close()"
   ]
  },
  {
   "cell_type": "markdown",
   "id": "334cb9bb",
   "metadata": {},
   "source": [
    "###### 2. Read the text file today.txt into the string today_string"
   ]
  },
  {
   "cell_type": "code",
   "execution_count": 2,
   "id": "35efe63e",
   "metadata": {},
   "outputs": [
    {
     "name": "stdout",
     "output_type": "stream",
     "text": [
      "07-06-2023\n"
     ]
    }
   ],
   "source": [
    "file = open('today.txt','r')\n",
    "today_string = file.read()\n",
    "print(today_string)"
   ]
  },
  {
   "cell_type": "markdown",
   "id": "97bce5ef",
   "metadata": {},
   "source": [
    "###### 3. Parse the date from today_string."
   ]
  },
  {
   "cell_type": "code",
   "execution_count": 3,
   "id": "5a80bb7d",
   "metadata": {},
   "outputs": [
    {
     "name": "stdout",
     "output_type": "stream",
     "text": [
      "2023-06-07 00:00:00\n"
     ]
    }
   ],
   "source": [
    "from datetime import datetime\n",
    "parsed_data = datetime.strptime(today_string, '%d-%m-%Y')\n",
    "print(parsed_data)"
   ]
  },
  {
   "cell_type": "markdown",
   "id": "0e6cd68b",
   "metadata": {},
   "source": [
    "###### 4. List the files in your current directory"
   ]
  },
  {
   "cell_type": "code",
   "execution_count": 4,
   "id": "942a43e1",
   "metadata": {},
   "outputs": [
    {
     "name": "stdout",
     "output_type": "stream",
     "text": [
      "Assignment No 13.ipynb\n",
      "Assignment No. 02.ipynb\n",
      "Assignment No. 03.ipynb\n",
      "Assignment No. 04.ipynb\n",
      "Assignment No. 05.ipynb\n",
      "Assignment No. 07.ipynb\n",
      "Assignment No. 08.ipynb\n",
      "Assignment No. 09.ipynb\n",
      "Assignment No. 10.ipynb\n",
      "Assignment No. 11.ipynb\n",
      "Assignment No. 12.ipynb\n",
      "Assignment No. 14.ipynb\n",
      "Assignment No. 15.ipynb\n",
      "Assignment No. 16.ipynb\n",
      "Assignment No. 17.ipynb\n",
      "Assignment No. 18.ipynb\n",
      "Assignment No. 19.ipynb\n",
      "Assignment No. 20.ipynb\n",
      "Assignment No. 21.ipynb\n",
      "Assignment No. 22.ipynb\n",
      "Assignment No. 23.ipynb\n",
      "Assignment No. 24.ipynb\n",
      "Assignment No. 25.ipynb\n",
      "Assignment No.06.ipynb\n",
      "Assinment N0. 01.ipynb\n",
      "today.txt\n",
      "Assignment No 13-checkpoint.ipynb\n",
      "Assignment No. 02-checkpoint.ipynb\n",
      "Assignment No. 03-checkpoint.ipynb\n",
      "Assignment No. 04-checkpoint.ipynb\n",
      "Assignment No. 05-checkpoint.ipynb\n",
      "Assignment No. 07-checkpoint.ipynb\n",
      "Assignment No. 08-checkpoint.ipynb\n",
      "Assignment No. 09-checkpoint.ipynb\n",
      "Assignment No. 10-checkpoint.ipynb\n",
      "Assignment No. 11-checkpoint.ipynb\n",
      "Assignment No. 12-checkpoint.ipynb\n",
      "Assignment No. 14-checkpoint.ipynb\n",
      "Assignment No. 15-checkpoint.ipynb\n",
      "Assignment No. 16-checkpoint.ipynb\n",
      "Assignment No. 17-checkpoint.ipynb\n",
      "Assignment No. 18-checkpoint.ipynb\n",
      "Assignment No. 19-checkpoint.ipynb\n",
      "Assignment No. 20-checkpoint.ipynb\n",
      "Assignment No. 21-checkpoint.ipynb\n",
      "Assignment No. 22-checkpoint.ipynb\n",
      "Assignment No. 23-checkpoint.ipynb\n",
      "Assignment No. 24-checkpoint.ipynb\n",
      "Assignment No. 25-checkpoint.ipynb\n",
      "Assignment No.06-checkpoint.ipynb\n",
      "Assinment N0. 01-checkpoint.ipynb\n"
     ]
    }
   ],
   "source": [
    "import os\n",
    "for folders, subfolders, files in os.walk(os.getcwd()):\n",
    "    for file in files:\n",
    "        print(file)"
   ]
  },
  {
   "cell_type": "markdown",
   "id": "fb9a131f",
   "metadata": {},
   "source": [
    "###### 5. Create a list of all of the files in your parent directory (minimum five files should be available)."
   ]
  },
  {
   "cell_type": "code",
   "execution_count": 5,
   "id": "5fa964bd",
   "metadata": {},
   "outputs": [
    {
     "data": {
      "text/plain": [
       "['.ipynb_checkpoints',\n",
       " 'Assignment No 13.ipynb',\n",
       " 'Assignment No. 02.ipynb',\n",
       " 'Assignment No. 03.ipynb',\n",
       " 'Assignment No. 04.ipynb',\n",
       " 'Assignment No. 05.ipynb',\n",
       " 'Assignment No. 07.ipynb',\n",
       " 'Assignment No. 08.ipynb',\n",
       " 'Assignment No. 09.ipynb',\n",
       " 'Assignment No. 10.ipynb',\n",
       " 'Assignment No. 11.ipynb',\n",
       " 'Assignment No. 12.ipynb',\n",
       " 'Assignment No. 14.ipynb',\n",
       " 'Assignment No. 15.ipynb',\n",
       " 'Assignment No. 16.ipynb',\n",
       " 'Assignment No. 17.ipynb',\n",
       " 'Assignment No. 18.ipynb',\n",
       " 'Assignment No. 19.ipynb',\n",
       " 'Assignment No. 20.ipynb',\n",
       " 'Assignment No. 21.ipynb',\n",
       " 'Assignment No. 22.ipynb',\n",
       " 'Assignment No. 23.ipynb',\n",
       " 'Assignment No. 24.ipynb',\n",
       " 'Assignment No. 25.ipynb',\n",
       " 'Assignment No.06.ipynb',\n",
       " 'Assinment N0. 01.ipynb',\n",
       " 'today.txt']"
      ]
     },
     "execution_count": 5,
     "metadata": {},
     "output_type": "execute_result"
    }
   ],
   "source": [
    "import os \n",
    "os.listdir()"
   ]
  },
  {
   "cell_type": "markdown",
   "id": "1030c1ae",
   "metadata": {},
   "source": [
    "###### 6. Use multiprocessing to create three separate processes. Make each one wait a random number of seconds between one and five, print the current time, and then exit."
   ]
  },
  {
   "cell_type": "code",
   "execution_count": null,
   "id": "3a1c043a",
   "metadata": {},
   "outputs": [],
   "source": [
    "import multiprocessing\n",
    "import time \n",
    "import random\n",
    "import datetime\n",
    "\n",
    "def procOne():\n",
    "    print(f'Proc_one_Starttime -> {datetime.datetime.now()}')\n",
    "    time.sleep(random.randint(1,5))\n",
    "    print(f'Proc_one_Endtime -> {datetime.datetime.now()}')\n",
    "    \n",
    "def procTwo():\n",
    "    print(f'Proc_two_Starttime -> {datetime.datetime.now()}')\n",
    "    time.sleep(random.randint(1,5))\n",
    "    print(f'Proc_two_Endtime -> {datetime.datetime.now()}')\n",
    "\n",
    "def procThree():\n",
    "    print(f'Proc_two_Starttime -> {datetime.datetime.now()}')\n",
    "    time.sleep(random.randint(1,5))\n",
    "    print(f'Proc_two_Endtime -> {datetime.datetime.now()}')\n",
    "    \n",
    "if __name__ == \"__main__\":    \n",
    "    p1 = multiprocessing.Process(target=procOne)\n",
    "    p2 = multiprocessing.Process(target=procTwo)\n",
    "    p3 = multiprocessing.Process(target=procThree)\n",
    "\n",
    "    p1.start()\n",
    "    p2.start()\n",
    "    p3.start()\n",
    "\n",
    "    p1.join()\n",
    "    p2.join()\n",
    "    p3.join()"
   ]
  },
  {
   "cell_type": "markdown",
   "id": "22adad8a",
   "metadata": {},
   "source": [
    "###### 7. Create a date object of your day of birth."
   ]
  },
  {
   "cell_type": "code",
   "execution_count": 6,
   "id": "a436adb7",
   "metadata": {},
   "outputs": [
    {
     "name": "stdout",
     "output_type": "stream",
     "text": [
      "1997-04-22 00:00:00 <class 'datetime.datetime'>\n"
     ]
    }
   ],
   "source": [
    "from datetime import datetime\n",
    "my_dob = datetime.strptime('22/04/1997','%d/%m/%Y')\n",
    "print(my_dob, type(my_dob))"
   ]
  },
  {
   "cell_type": "markdown",
   "id": "cc9b9982",
   "metadata": {},
   "source": [
    "###### 8. What day of the week was your day of birth?"
   ]
  },
  {
   "cell_type": "code",
   "execution_count": 7,
   "id": "76c3f230",
   "metadata": {},
   "outputs": [
    {
     "data": {
      "text/plain": [
       "'Tuesday'"
      ]
     },
     "execution_count": 7,
     "metadata": {},
     "output_type": "execute_result"
    }
   ],
   "source": [
    "from datetime import datetime\n",
    "my_dob = datetime(1997,4,22)\n",
    "my_dob.strftime(\"%A\")"
   ]
  },
  {
   "cell_type": "markdown",
   "id": "327be4db",
   "metadata": {},
   "source": [
    "###### 9. When will you be (or when were you) 10,000 days old?"
   ]
  },
  {
   "cell_type": "code",
   "execution_count": 8,
   "id": "37fee71c",
   "metadata": {},
   "outputs": [
    {
     "data": {
      "text/plain": [
       "datetime.datetime(1969, 12, 5, 0, 0)"
      ]
     },
     "execution_count": 8,
     "metadata": {},
     "output_type": "execute_result"
    }
   ],
   "source": [
    "from datetime import datetime, timedelta\n",
    "my_dob = datetime.strptime(\"22/04/1997\",'%d/%m/%Y')\n",
    "future_date = my_dob-timedelta(10000)\n",
    "future_date"
   ]
  },
  {
   "cell_type": "code",
   "execution_count": null,
   "id": "6a2e9acc",
   "metadata": {},
   "outputs": [],
   "source": []
  }
 ],
 "metadata": {
  "kernelspec": {
   "display_name": "Python 3 (ipykernel)",
   "language": "python",
   "name": "python3"
  },
  "language_info": {
   "codemirror_mode": {
    "name": "ipython",
    "version": 3
   },
   "file_extension": ".py",
   "mimetype": "text/x-python",
   "name": "python",
   "nbconvert_exporter": "python",
   "pygments_lexer": "ipython3",
   "version": "3.10.9"
  }
 },
 "nbformat": 4,
 "nbformat_minor": 5
}
