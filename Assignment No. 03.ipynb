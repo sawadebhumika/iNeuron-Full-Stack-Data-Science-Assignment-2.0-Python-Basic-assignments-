{
 "cells": [
  {
   "cell_type": "markdown",
   "id": "9432e1f6",
   "metadata": {},
   "source": [
    "##### 1. Why are functions advantageous to have in your programs?"
   ]
  },
  {
   "cell_type": "markdown",
   "id": "6f4c5efe",
   "metadata": {},
   "source": [
    "Functions reduce the need for duplicate code. This makes the programs shorter, easier to read, and easier to update"
   ]
  },
  {
   "cell_type": "markdown",
   "id": "fef352f5",
   "metadata": {},
   "source": [
    "##### 2. When does the code in a function run: when it's specified or when it's called?"
   ]
  },
  {
   "cell_type": "markdown",
   "id": "9211310b",
   "metadata": {},
   "source": [
    "The code in the function run when it's called. "
   ]
  },
  {
   "cell_type": "markdown",
   "id": "7829b41a",
   "metadata": {},
   "source": [
    "##### 3. What statement creates a function?"
   ]
  },
  {
   "cell_type": "markdown",
   "id": "2ea1c84d",
   "metadata": {},
   "source": [
    "The def statement creates(defines) a function. "
   ]
  },
  {
   "cell_type": "markdown",
   "id": "e0658df9",
   "metadata": {},
   "source": [
    "##### 4. What is the difference between a function and a function call?"
   ]
  },
  {
   "cell_type": "code",
   "execution_count": 1,
   "id": "70954a1a",
   "metadata": {},
   "outputs": [],
   "source": [
    "def func():\n",
    "    pass\n",
    "func()   # calling of function"
   ]
  },
  {
   "cell_type": "markdown",
   "id": "a8802dd5",
   "metadata": {},
   "source": [
    "A function consists of the def statement and the code in its def clause\n",
    "\n",
    "A function call is what moves the programme execution into the function, and the function call evaluates to the function's return value. "
   ]
  },
  {
   "cell_type": "markdown",
   "id": "8c333206",
   "metadata": {},
   "source": [
    "##### 5. How many global scopes are there in a Python program? How many local scopes?"
   ]
  },
  {
   "cell_type": "markdown",
   "id": "0c4e5b8e",
   "metadata": {},
   "source": [
    "There is only one global scope per program execution. This scope remains in the existence until the programme terminates, and a local scope is created  whenever a function is called."
   ]
  },
  {
   "cell_type": "markdown",
   "id": "8d6288bf",
   "metadata": {},
   "source": [
    "##### 6. What happens to variables in a local scope when the function call returns?"
   ]
  },
  {
   "cell_type": "markdown",
   "id": "63de2f56",
   "metadata": {},
   "source": [
    "The local scope is destroyed, when a function returns "
   ]
  },
  {
   "cell_type": "markdown",
   "id": "d705de51",
   "metadata": {},
   "source": [
    "##### 7. What is the concept of a return value? Is it possible to have a return value in an expression?"
   ]
  },
  {
   "cell_type": "markdown",
   "id": "ddb689e0",
   "metadata": {},
   "source": [
    "A return value is the value that a function call evaluates to. Like any value, a return value can be used as part of an expression"
   ]
  },
  {
   "cell_type": "markdown",
   "id": "54aaec23",
   "metadata": {},
   "source": [
    "##### 8. If a function does not have a return statement, what is the return value of a call to that function?"
   ]
  },
  {
   "cell_type": "markdown",
   "id": "48227190",
   "metadata": {},
   "source": [
    "If a function does not have a return statement it will not return anything"
   ]
  },
  {
   "cell_type": "markdown",
   "id": "511be9b1",
   "metadata": {},
   "source": [
    "##### 9. How do you make a function variable refer to the global variable?"
   ]
  },
  {
   "cell_type": "markdown",
   "id": "a01cd9f0",
   "metadata": {},
   "source": [
    "To make function variable as a global variable we can use the global keyword to declare which variables are global."
   ]
  },
  {
   "cell_type": "markdown",
   "id": "78722c38",
   "metadata": {},
   "source": [
    "##### 10. What is the data type of None?"
   ]
  },
  {
   "cell_type": "markdown",
   "id": "9e157141",
   "metadata": {},
   "source": [
    "The data type of None is Nonetype"
   ]
  },
  {
   "cell_type": "markdown",
   "id": "b7797dd6",
   "metadata": {},
   "source": [
    "##### 11. What does the sentence import areallyourpetsnamederic do?"
   ]
  },
  {
   "cell_type": "markdown",
   "id": "502b356c",
   "metadata": {},
   "source": [
    "import areallyourpetsnamederic . It imports the module names  areallyourpetsnamederic(do no exist in python)"
   ]
  },
  {
   "cell_type": "markdown",
   "id": "1ca201f3",
   "metadata": {},
   "source": [
    "##### 12. If you had a bacon() feature in a spam module, what would you call it after importing spam?"
   ]
  },
  {
   "cell_type": "markdown",
   "id": "1b5ee78c",
   "metadata": {},
   "source": [
    "import spam\n",
    "\n",
    "spam.bacon()"
   ]
  },
  {
   "cell_type": "markdown",
   "id": "5cc6c9fc",
   "metadata": {},
   "source": [
    "##### 13. What can you do to save a programme from crashing if it encounters an error?"
   ]
  },
  {
   "cell_type": "markdown",
   "id": "939e6e01",
   "metadata": {},
   "source": [
    "We can use try and except block to save the programme from crashing."
   ]
  },
  {
   "cell_type": "markdown",
   "id": "fe9e44f4",
   "metadata": {},
   "source": [
    "##### 14. What is the purpose of the try clause? What is the purpose of the except clause?"
   ]
  },
  {
   "cell_type": "markdown",
   "id": "61ea7c5d",
   "metadata": {},
   "source": [
    "    try:\n",
    "        # code\n",
    "    except:\n",
    "        # executed if error in the try block\n",
    "        \n",
    "Try and Except clause is used to handle the errors within our code. The try block is used to check some code for errors i.e the code inside the try block will execute when there is no error in the programme. Whereas the code inside the except block will execute whenever the programme encounters some error in the try block.  "
   ]
  }
 ],
 "metadata": {
  "kernelspec": {
   "display_name": "Python 3 (ipykernel)",
   "language": "python",
   "name": "python3"
  },
  "language_info": {
   "codemirror_mode": {
    "name": "ipython",
    "version": 3
   },
   "file_extension": ".py",
   "mimetype": "text/x-python",
   "name": "python",
   "nbconvert_exporter": "python",
   "pygments_lexer": "ipython3",
   "version": "3.10.9"
  }
 },
 "nbformat": 4,
 "nbformat_minor": 5
}
