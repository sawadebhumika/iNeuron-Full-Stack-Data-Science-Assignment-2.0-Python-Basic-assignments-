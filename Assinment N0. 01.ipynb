{
 "cells": [
  {
   "cell_type": "markdown",
   "id": "725f4f25",
   "metadata": {},
   "source": [
    "###### 1. In the below elements which of them are values or an expression? eg:- values can be integer or string and expressions will be mathematical operators.\n",
    "###### \\* , 'hello' , -87.8 , - , / , + , 6"
   ]
  },
  {
   "cell_type": "markdown",
   "id": "f40d3329",
   "metadata": {},
   "source": [
    "Expression : * ,- , / , +\n",
    "\n",
    "Values : \"hello\" , -87.8 , 6"
   ]
  },
  {
   "cell_type": "markdown",
   "id": "dcd83014",
   "metadata": {},
   "source": [
    "###### 2. What is the difference between string and variable?"
   ]
  },
  {
   "cell_type": "markdown",
   "id": "5aec7c94",
   "metadata": {},
   "source": [
    "Variables can be considered as the value used to store data i. it hold a value. The value of the variable may change depending on the situation\n",
    "\n",
    "Anything in the double or single quotes is considered as string .It can contain letters ,no. and other special character as well  . "
   ]
  },
  {
   "cell_type": "markdown",
   "id": "15f1faec",
   "metadata": {},
   "source": [
    "###### 3. Describe three different data types."
   ]
  },
  {
   "cell_type": "markdown",
   "id": "01282397",
   "metadata": {},
   "source": [
    "The three fundamental data types are :\n",
    "\n",
    "    1. Integer- The numeric value which is a whole no. i.e not a fractional no. for eg. 347, -789, 0\n",
    "            \n",
    "    2. Float- A floating is a positive or negative no. whole no. with a decimal point.  for eg. 5.5 ,-103.78\n",
    "    \n",
    "    3. Complex No.: It consists of the two value of which one is the real part of the complex no. and the other imaginary part . Denoted by (x + yj). for eg. (3+66j), (5+1j)"
   ]
  },
  {
   "cell_type": "markdown",
   "id": "63001101",
   "metadata": {},
   "source": [
    "###### 4. What is an expression made up of? What do all expressions do?"
   ]
  },
  {
   "cell_type": "markdown",
   "id": "38d0205e",
   "metadata": {},
   "source": [
    "A combination of operands and operators is called an expression. The expression in python produces some value or result after being interpreted by the python interpreter. All expressions evaluate to single value. "
   ]
  },
  {
   "cell_type": "markdown",
   "id": "1462744c",
   "metadata": {},
   "source": [
    "##### 5. This assignment statements, like spam = 10. What is the difference between an expression and a statement?"
   ]
  },
  {
   "cell_type": "markdown",
   "id": "5d235df5",
   "metadata": {},
   "source": [
    "An expression evaluates to single value. A statement does not"
   ]
  },
  {
   "cell_type": "markdown",
   "id": "103db9d6",
   "metadata": {},
   "source": [
    "##### 6. After running the following code, what does the variable bacon contain?\n",
    "###### bacon = 22\n",
    "##### bacon + 1\n"
   ]
  },
  {
   "cell_type": "markdown",
   "id": "ece609d8",
   "metadata": {},
   "source": [
    "The variable contain bacon contain 22."
   ]
  },
  {
   "cell_type": "markdown",
   "id": "494e171a",
   "metadata": {},
   "source": [
    "##### 7. What should the values of the following two terms be?\n",
    "'spam' + 'spamspam'\n",
    "\n",
    "'spam' * 3\n"
   ]
  },
  {
   "cell_type": "markdown",
   "id": "f0db6371",
   "metadata": {},
   "source": [
    "=> The value of both the two terms gives the same output i.e 'spamspamspam'"
   ]
  },
  {
   "cell_type": "markdown",
   "id": "ca2883d1",
   "metadata": {},
   "source": [
    "##### 8. Why is eggs a valid variable name while 100 is invalid?"
   ]
  },
  {
   "cell_type": "markdown",
   "id": "7d07677b",
   "metadata": {},
   "source": [
    "Because, the variable name does not starts with no., if did so it throws error"
   ]
  },
  {
   "cell_type": "markdown",
   "id": "d7482c83",
   "metadata": {},
   "source": [
    "##### 9. What three functions can be used to get the integer, floating-point number, or string version of a value?"
   ]
  },
  {
   "cell_type": "markdown",
   "id": "e6fdb9e9",
   "metadata": {},
   "source": [
    "The int(), float() and str() functions can be used to get the integer, floating-point number, or string version of a value."
   ]
  },
  {
   "cell_type": "markdown",
   "id": "28e3948a",
   "metadata": {},
   "source": [
    "##### 10. Why does this expression cause an error? How can you fix it?\n",
    "###### 'I have eaten ' + 99 + ' burritos.'"
   ]
  },
  {
   "cell_type": "markdown",
   "id": "d85fe5bc",
   "metadata": {},
   "source": [
    "This expression cause an Type error because with string we can only concatenate string and here we are concatenating integer 99. We can fix it by writting it as.\n",
    "\n",
    "'I have eaten ' + \"99\" + ' burritos.'"
   ]
  }
 ],
 "metadata": {
  "kernelspec": {
   "display_name": "Python 3 (ipykernel)",
   "language": "python",
   "name": "python3"
  },
  "language_info": {
   "codemirror_mode": {
    "name": "ipython",
    "version": 3
   },
   "file_extension": ".py",
   "mimetype": "text/x-python",
   "name": "python",
   "nbconvert_exporter": "python",
   "pygments_lexer": "ipython3",
   "version": "3.10.9"
  }
 },
 "nbformat": 4,
 "nbformat_minor": 5
}
