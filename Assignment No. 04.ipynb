{
 "cells": [
  {
   "cell_type": "markdown",
   "id": "4884d4c2",
   "metadata": {},
   "source": [
    "##### 1. What exactly is []?"
   ]
  },
  {
   "cell_type": "raw",
   "id": "04171728",
   "metadata": {},
   "source": [
    "[] is a empty list, like a = []"
   ]
  },
  {
   "cell_type": "markdown",
   "id": "e40ef11e",
   "metadata": {},
   "source": [
    "##### 2. In a list of values stored in a variable called spam, how would you assign the value 'hello' as the third value? (Assume [2, 4, 6, 8, 10] are in spam.) Let's pretend the spam includes the list ['a', 'b', 'c', 'd'] for the next three queries."
   ]
  },
  {
   "cell_type": "code",
   "execution_count": 1,
   "id": "79a959db",
   "metadata": {},
   "outputs": [
    {
     "data": {
      "text/plain": [
       "[2, 4, 'hello', 8, 10]"
      ]
     },
     "execution_count": 1,
     "metadata": {},
     "output_type": "execute_result"
    }
   ],
   "source": [
    "spam = [2,4,6,8,10]\n",
    "spam[2] = \"hello\"    #replaced the value of index 2 \n",
    "spam"
   ]
  },
  {
   "cell_type": "markdown",
   "id": "fee75acc",
   "metadata": {},
   "source": [
    "##### 3. What is the value of spam[int(int('3' * 2) / 11)]?"
   ]
  },
  {
   "cell_type": "code",
   "execution_count": 2,
   "id": "251336bd",
   "metadata": {},
   "outputs": [
    {
     "data": {
      "text/plain": [
       "'d'"
      ]
     },
     "execution_count": 2,
     "metadata": {},
     "output_type": "execute_result"
    }
   ],
   "source": [
    "spam = ['a','b','c','d']\n",
    "spam[int(int('3' * 2) / 11)]    #spam[3]"
   ]
  },
  {
   "cell_type": "markdown",
   "id": "f7a9ad23",
   "metadata": {},
   "source": [
    "##### 4. What is the value of spam[-1]?"
   ]
  },
  {
   "cell_type": "code",
   "execution_count": 4,
   "id": "7ce748b7",
   "metadata": {},
   "outputs": [
    {
     "data": {
      "text/plain": [
       "'d'"
      ]
     },
     "execution_count": 4,
     "metadata": {},
     "output_type": "execute_result"
    }
   ],
   "source": [
    "spam[-1]   # gives the last element "
   ]
  },
  {
   "cell_type": "markdown",
   "id": "248cb707",
   "metadata": {},
   "source": [
    "##### 5. What is the value of spam[:2]?          \n"
   ]
  },
  {
   "cell_type": "code",
   "execution_count": 7,
   "id": "6d3b841d",
   "metadata": {},
   "outputs": [
    {
     "data": {
      "text/plain": [
       "['a', 'b']"
      ]
     },
     "execution_count": 7,
     "metadata": {},
     "output_type": "execute_result"
    }
   ],
   "source": [
    "spam[:2]"
   ]
  },
  {
   "cell_type": "markdown",
   "id": "b9471a24",
   "metadata": {},
   "source": [
    "###### Let's pretend bacon has the list [3.14, 'cat,' 11, 'cat,' True] for the next three questions."
   ]
  },
  {
   "cell_type": "markdown",
   "id": "1e0596a6",
   "metadata": {},
   "source": [
    "##### 6. What is the value of bacon.index('cat')?"
   ]
  },
  {
   "cell_type": "code",
   "execution_count": 15,
   "id": "a6563577",
   "metadata": {},
   "outputs": [
    {
     "data": {
      "text/plain": [
       "1"
      ]
     },
     "execution_count": 15,
     "metadata": {},
     "output_type": "execute_result"
    }
   ],
   "source": [
    "bacon = [3.14,'cat',11,'cat',True]\n",
    "bacon.index('cat')   # returned the index of 1st occurrence"
   ]
  },
  {
   "cell_type": "markdown",
   "id": "b897e16f",
   "metadata": {},
   "source": [
    "##### 7. How does bacon.append(99) change the look of the list value in bacon?"
   ]
  },
  {
   "cell_type": "code",
   "execution_count": 16,
   "id": "314ed235",
   "metadata": {},
   "outputs": [
    {
     "data": {
      "text/plain": [
       "[3.14, 'cat', 11, 'cat', True, 99]"
      ]
     },
     "execution_count": 16,
     "metadata": {},
     "output_type": "execute_result"
    }
   ],
   "source": [
    "bacon.append(99)   # adds en element at the end of the list\n",
    "bacon"
   ]
  },
  {
   "cell_type": "markdown",
   "id": "d3e974ab",
   "metadata": {},
   "source": [
    "##### 8. How does bacon.remove('cat') change the look of the list in bacon?"
   ]
  },
  {
   "cell_type": "code",
   "execution_count": 17,
   "id": "9bce51db",
   "metadata": {},
   "outputs": [
    {
     "data": {
      "text/plain": [
       "[3.14, 11, 'cat', True, 99]"
      ]
     },
     "execution_count": 17,
     "metadata": {},
     "output_type": "execute_result"
    }
   ],
   "source": [
    "bacon.remove('cat')  # removes the item of 1st occurence\n",
    "bacon"
   ]
  },
  {
   "cell_type": "markdown",
   "id": "0db66b54",
   "metadata": {},
   "source": [
    "##### 9. What are the list concatenation and list replication operators?"
   ]
  },
  {
   "cell_type": "code",
   "execution_count": 21,
   "id": "295a6360",
   "metadata": {},
   "outputs": [
    {
     "name": "stdout",
     "output_type": "stream",
     "text": [
      "[29, 23, 30, 12]\n"
     ]
    },
    {
     "data": {
      "text/plain": [
       "[29, 23, 29, 23, 29, 23]"
      ]
     },
     "execution_count": 21,
     "metadata": {},
     "output_type": "execute_result"
    }
   ],
   "source": [
    "# (+) is list concatenation operator\n",
    "# (*) is list replication operator\n",
    "\n",
    "l1 = [29,23]\n",
    "l2 = [30,12]\n",
    "\n",
    "print(l1+l2 )    # list concatination\n",
    "l1*3      # list replication\n",
    "# print(l1+l2)"
   ]
  },
  {
   "cell_type": "markdown",
   "id": "86e55f30",
   "metadata": {},
   "source": [
    "##### 10. What is difference between the list methods append() and insert()?"
   ]
  },
  {
   "cell_type": "raw",
   "id": "6e1ce9cc",
   "metadata": {},
   "source": [
    "append(): Appends object to the end of the list\n",
    "insert(): Inserts object before index"
   ]
  },
  {
   "cell_type": "code",
   "execution_count": 22,
   "id": "de9fe927",
   "metadata": {},
   "outputs": [
    {
     "data": {
      "text/plain": [
       "[3.14, 'cat', 11, 'cat', True, 99]"
      ]
     },
     "execution_count": 22,
     "metadata": {},
     "output_type": "execute_result"
    }
   ],
   "source": [
    "bacon = [3.14, 'cat', 11, 'cat', True]\n",
    "bacon.append(99) # append adds the item at the end of the list\n",
    "bacon"
   ]
  },
  {
   "cell_type": "code",
   "execution_count": 23,
   "id": "47abb9bf",
   "metadata": {},
   "outputs": [
    {
     "data": {
      "text/plain": [
       "[2, 4, 'hello', 6, 8, 10]"
      ]
     },
     "execution_count": 23,
     "metadata": {},
     "output_type": "execute_result"
    }
   ],
   "source": [
    "spam = [2, 4, 6, 8, 10]\n",
    "spam.insert(2,'hello')  # inserts value at 2 index\n",
    "spam"
   ]
  },
  {
   "cell_type": "markdown",
   "id": "63eb593d",
   "metadata": {},
   "source": [
    "##### 11. What are the two methods for removing items from a list?"
   ]
  },
  {
   "cell_type": "code",
   "execution_count": 24,
   "id": "028bd79a",
   "metadata": {},
   "outputs": [
    {
     "data": {
      "text/plain": [
       "[3.14, 11, 'cat', True]"
      ]
     },
     "execution_count": 24,
     "metadata": {},
     "output_type": "execute_result"
    }
   ],
   "source": [
    "bacon = [3.14, 'cat', 11, 'cat', True]\n",
    "bacon.remove('cat')   # removes the first occurence of the item\n",
    "bacon"
   ]
  },
  {
   "cell_type": "code",
   "execution_count": 30,
   "id": "fc25c23b",
   "metadata": {},
   "outputs": [
    {
     "data": {
      "text/plain": [
       "[3.14, 'cat', 11, 'cat']"
      ]
     },
     "execution_count": 30,
     "metadata": {},
     "output_type": "execute_result"
    }
   ],
   "source": [
    "bacon = [3.14, 'cat', 11, 'cat', True]\n",
    "bacon.pop()   # by default removes the last element, do not take any argument\n",
    "bacon"
   ]
  },
  {
   "cell_type": "markdown",
   "id": "a7cabb1a",
   "metadata": {},
   "source": [
    "##### 12. Describe how list values and string values are identical."
   ]
  },
  {
   "cell_type": "raw",
   "id": "aef5a38f",
   "metadata": {},
   "source": [
    "1. Both strings and lists can be passed to len()\n",
    "2. Have indexes and slices\n",
    "3. Can be used in for loops\n",
    "4. Can be concatenated or replicated\n",
    "5. Can be used with the in and not in operators"
   ]
  },
  {
   "cell_type": "markdown",
   "id": "956eafbe",
   "metadata": {},
   "source": [
    "##### 13. What's the difference between tuples and lists?"
   ]
  },
  {
   "cell_type": "raw",
   "id": "2ab2ca5d",
   "metadata": {},
   "source": [
    "List[]                                            Tuples()\n",
    "List are mutable.                                 Tuples are immutable. \n",
    "They can have values added, removed or changed.   They cannot be changed at all.\n",
    "List use the square brackets                      Tuples are written using parenthesis."
   ]
  },
  {
   "cell_type": "markdown",
   "id": "d39b91c1",
   "metadata": {},
   "source": [
    "##### 14. How do you type a tuple value that only contains the integer 42?"
   ]
  },
  {
   "cell_type": "code",
   "execution_count": 33,
   "id": "5f3da748",
   "metadata": {},
   "outputs": [
    {
     "data": {
      "text/plain": [
       "(42,)"
      ]
     },
     "execution_count": 33,
     "metadata": {},
     "output_type": "execute_result"
    }
   ],
   "source": [
    "tuple = (42,)\n",
    "tuple"
   ]
  },
  {
   "cell_type": "markdown",
   "id": "07f2b0fb",
   "metadata": {},
   "source": [
    "##### 15. How do you get a list value's tuple form? How do you get a tuple value's list form?"
   ]
  },
  {
   "cell_type": "code",
   "execution_count": null,
   "id": "a974822d",
   "metadata": {},
   "outputs": [],
   "source": [
    "l1 = [2,3]\n",
    "l = tuple(l1)\n",
    "l"
   ]
  },
  {
   "cell_type": "code",
   "execution_count": 35,
   "id": "db04d872",
   "metadata": {},
   "outputs": [
    {
     "data": {
      "text/plain": [
       "[3, 4]"
      ]
     },
     "execution_count": 35,
     "metadata": {},
     "output_type": "execute_result"
    }
   ],
   "source": [
    "t1 = (3,4)\n",
    "t = list(t1)\n",
    "t"
   ]
  },
  {
   "cell_type": "markdown",
   "id": "669d869e",
   "metadata": {},
   "source": [
    "##### 16. Variables that \"contain\" list values are not necessarily lists themselves. Instead, what do they contain?"
   ]
  },
  {
   "cell_type": "raw",
   "id": "e756a8de",
   "metadata": {},
   "source": [
    "They contain references to list values"
   ]
  },
  {
   "cell_type": "markdown",
   "id": "4664ddd6",
   "metadata": {},
   "source": [
    "###### 17. How do you distinguish between copy.copy() and copy.deepcopy()?"
   ]
  },
  {
   "cell_type": "raw",
   "id": "dbd8aa04",
   "metadata": {},
   "source": [
    "The copy.copy() function will do a shallow copy of a list,\n",
    "The copy.deepcopy() function will do a deep copy of a list. only copy.deepcopy() will duplicate any lists inside the list"
   ]
  }
 ],
 "metadata": {
  "kernelspec": {
   "display_name": "Python 3 (ipykernel)",
   "language": "python",
   "name": "python3"
  },
  "language_info": {
   "codemirror_mode": {
    "name": "ipython",
    "version": 3
   },
   "file_extension": ".py",
   "mimetype": "text/x-python",
   "name": "python",
   "nbconvert_exporter": "python",
   "pygments_lexer": "ipython3",
   "version": "3.10.9"
  }
 },
 "nbformat": 4,
 "nbformat_minor": 5
}
