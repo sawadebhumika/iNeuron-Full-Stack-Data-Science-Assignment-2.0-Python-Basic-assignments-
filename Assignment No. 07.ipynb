{
 "cells": [
  {
   "cell_type": "markdown",
   "id": "d38f8cd2",
   "metadata": {},
   "source": [
    "##### 1. What is the name of the feature resposible for generating Regex objects?"
   ]
  },
  {
   "cell_type": "code",
   "execution_count": 2,
   "id": "51a9d0f1",
   "metadata": {},
   "outputs": [
    {
     "data": {
      "text/plain": [
       "re.compile(r'string', re.UNICODE)"
      ]
     },
     "execution_count": 2,
     "metadata": {},
     "output_type": "execute_result"
    }
   ],
   "source": [
    "import re\n",
    "re.compile(\"string\")\n",
    "#The re.compile() function returns Regex objects."
   ]
  },
  {
   "cell_type": "markdown",
   "id": "d87d6393",
   "metadata": {},
   "source": [
    "##### 2. Why do raw strings often appear in Regex objects? "
   ]
  },
  {
   "cell_type": "raw",
   "id": "231751b4",
   "metadata": {},
   "source": [
    "Raw strings are used so that backslashes do not have to be escaped"
   ]
  },
  {
   "cell_type": "markdown",
   "id": "c168425f",
   "metadata": {},
   "source": [
    "###### 3. What is the return value of the search() method?"
   ]
  },
  {
   "cell_type": "raw",
   "id": "e636cb1d",
   "metadata": {},
   "source": [
    "The search() method searches a string for a specified value, and returns the position of the match."
   ]
  },
  {
   "cell_type": "markdown",
   "id": "1f8042ea",
   "metadata": {},
   "source": [
    "##### 4. From a Match item, how do you get the actual strings that match the pattern?"
   ]
  },
  {
   "cell_type": "code",
   "execution_count": 3,
   "id": "1cccd98e",
   "metadata": {},
   "outputs": [
    {
     "name": "stdout",
     "output_type": "stream",
     "text": [
      "Phone number is: 345-444-4542\n"
     ]
    }
   ],
   "source": [
    "phoneNumRegex = re.compile(r'\\d\\d\\d-\\d\\d\\d-\\d\\d\\d\\d')\n",
    "mo = phoneNumRegex.search('My number is 345-444-4542.')\n",
    "print('Phone number is: ' + mo.group())\n",
    "#Calling matchingObject.group() will return the string."
   ]
  },
  {
   "cell_type": "markdown",
   "id": "59e0975f",
   "metadata": {},
   "source": [
    "##### 5. In the regex which created from the r'(\\d\\d\\d)-(\\d\\d\\d-\\d\\d\\d\\d)', what does group zero cover? Group 2? Group 1?"
   ]
  },
  {
   "cell_type": "code",
   "execution_count": 4,
   "id": "8fde5579",
   "metadata": {},
   "outputs": [
    {
     "data": {
      "text/plain": [
       "'345'"
      ]
     },
     "execution_count": 4,
     "metadata": {},
     "output_type": "execute_result"
    }
   ],
   "source": [
    "phoneNumRegex = re.compile(r'(\\d\\d\\d)-(\\d\\d\\d-\\d\\d\\d\\d)')\n",
    "mo = phoneNumRegex.search('My number is 345-444-4542.')\n",
    "mo.group(1)"
   ]
  },
  {
   "cell_type": "code",
   "execution_count": 5,
   "id": "90e66205",
   "metadata": {},
   "outputs": [
    {
     "data": {
      "text/plain": [
       "'444-4542'"
      ]
     },
     "execution_count": 5,
     "metadata": {},
     "output_type": "execute_result"
    }
   ],
   "source": [
    "mo.group(2)"
   ]
  },
  {
   "cell_type": "code",
   "execution_count": 6,
   "id": "f44f71e7",
   "metadata": {},
   "outputs": [
    {
     "data": {
      "text/plain": [
       "'345-444-4542'"
      ]
     },
     "execution_count": 6,
     "metadata": {},
     "output_type": "execute_result"
    }
   ],
   "source": [
    "mo.group(0)"
   ]
  },
  {
   "cell_type": "markdown",
   "id": "9628d713",
   "metadata": {},
   "source": [
    "##### 6. In standard expression syntax, parentheses and intervals have distinct meanings. How can you tell a regex that you want it to fit real parentheses and periods?"
   ]
  },
  {
   "cell_type": "raw",
   "id": "f3cba894",
   "metadata": {},
   "source": [
    " Periods and parentheses can be escaped with a backslash: ., (, and )."
   ]
  },
  {
   "cell_type": "markdown",
   "id": "aa7ab375",
   "metadata": {},
   "source": [
    "##### 7. The findall() method returns a string list or a list of string tuples. What causes it to return one of the two options?"
   ]
  },
  {
   "cell_type": "raw",
   "id": "0a9b04ae",
   "metadata": {},
   "source": [
    "If the regex has no groups, a list of strings is returned. If the regex has groups, a list of tuples of strings is returned."
   ]
  },
  {
   "cell_type": "markdown",
   "id": "aa11e8ab",
   "metadata": {},
   "source": [
    "##### 8. In standard expressions, what does the | character mean?"
   ]
  },
  {
   "cell_type": "raw",
   "id": "ad9d8a2d",
   "metadata": {},
   "source": [
    "The | character is called a pipe. You can use it anywhere you want to match one of many expressions."
   ]
  },
  {
   "cell_type": "raw",
   "id": "8619e47d",
   "metadata": {},
   "source": [
    "For example, the regular expression r'Cricket|Soccer Sport' will match either 'Cricket' or 'Soccer Sport'.\n",
    "\n",
    "When both Cricket and Soccer Sport occur in the searched string, the first occurrence of matching text will be returned as the Match object.\n",
    "\n",
    "The | character signifies matching “either, or” between two groups"
   ]
  },
  {
   "cell_type": "code",
   "execution_count": 9,
   "id": "3911501a",
   "metadata": {},
   "outputs": [
    {
     "data": {
      "text/plain": [
       "'Cricket'"
      ]
     },
     "execution_count": 9,
     "metadata": {},
     "output_type": "execute_result"
    }
   ],
   "source": [
    "SportRegex = re.compile (r'Cricket|Soccer Sport')\n",
    "s1 = SportRegex.search('Cricket and Soccer Sport')\n",
    "s1.group()"
   ]
  },
  {
   "cell_type": "code",
   "execution_count": 10,
   "id": "01722e63",
   "metadata": {},
   "outputs": [
    {
     "data": {
      "text/plain": [
       "'Soccer Sport'"
      ]
     },
     "execution_count": 10,
     "metadata": {},
     "output_type": "execute_result"
    }
   ],
   "source": [
    "s2 = SportRegex.search('Soccer Sport and Cricket')\n",
    "s2.group()"
   ]
  },
  {
   "cell_type": "markdown",
   "id": "9666fcb0",
   "metadata": {},
   "source": [
    "##### 9. In regular expressions, what does the character stand for?"
   ]
  },
  {
   "cell_type": "raw",
   "id": "39fdd447",
   "metadata": {},
   "source": [
    "The ? character can either mean “match zero or one of the preceding group”."
   ]
  },
  {
   "cell_type": "code",
   "execution_count": 11,
   "id": "8247d027",
   "metadata": {},
   "outputs": [
    {
     "data": {
      "text/plain": [
       "'Batman'"
      ]
     },
     "execution_count": 11,
     "metadata": {},
     "output_type": "execute_result"
    }
   ],
   "source": [
    "batRegex = re.compile(r'Bat(wo)?man')\n",
    "mo1 = batRegex.search('The Adventures of Batman')\n",
    "mo1.group()"
   ]
  },
  {
   "cell_type": "code",
   "execution_count": 12,
   "id": "fa35dd8c",
   "metadata": {},
   "outputs": [
    {
     "data": {
      "text/plain": [
       "'Batwoman'"
      ]
     },
     "execution_count": 12,
     "metadata": {},
     "output_type": "execute_result"
    }
   ],
   "source": [
    "mo2 = batRegex.search('The Adventures of Batwoman')\n",
    "mo2.group()     "
   ]
  },
  {
   "cell_type": "markdown",
   "id": "6dc3568c",
   "metadata": {},
   "source": [
    "##### 10. In regular expressions, what is the difference between the + and * characters?"
   ]
  },
  {
   "cell_type": "raw",
   "id": "06ea5bcf",
   "metadata": {},
   "source": [
    "The + matches one or more. The * matches zero or more"
   ]
  },
  {
   "cell_type": "markdown",
   "id": "4ab99ae9",
   "metadata": {},
   "source": [
    "##### 11. What is the difference between {4} and {4,5} in regular expression?"
   ]
  },
  {
   "cell_type": "raw",
   "id": "82d02905",
   "metadata": {},
   "source": [
    "The {3} matches exactly three instances of the preceding group.\n",
    "\n",
    "The {3,5} matches between three and five instances"
   ]
  },
  {
   "cell_type": "markdown",
   "id": "7f0aeeda",
   "metadata": {},
   "source": [
    "##### 12. What do you mean by the \\d, \\w, and \\s shorthand character classes signify in regular expressions?"
   ]
  },
  {
   "cell_type": "raw",
   "id": "e2869add",
   "metadata": {},
   "source": [
    "The \\d, stands for single digit, Any numeric digit from 0 to 9\n",
    "\n",
    "\\w, stands for single word, Any letter, numeric digit, or the underscore character. (Think of this as matching “word” characters.) \\s stands for single space character, Any space, tab, or newline character. (Think of this as matching “space” characters.)"
   ]
  },
  {
   "cell_type": "markdown",
   "id": "9ed9b340",
   "metadata": {},
   "source": [
    "###### 13. What do means by \\D, \\W, and \\S shorthand character classes signify in regular expressions?"
   ]
  },
  {
   "cell_type": "raw",
   "id": "156a57a0",
   "metadata": {},
   "source": [
    "\\D - > Any character that is not a numeric digit from 0 to 9.\n",
    "\n",
    "\\W - > Any character that is not a letter, numeric digit, or the underscore character.\n",
    "\\S - > Any character that is not a space, tab, or newline."
   ]
  },
  {
   "cell_type": "markdown",
   "id": "8e05918e",
   "metadata": {},
   "source": [
    "##### 14. What is the difference between .*? and .*?"
   ]
  },
  {
   "cell_type": "raw",
   "id": "858adfae",
   "metadata": {},
   "source": [
    "The dot-star uses greedy mode: It will always try to match as much text as possible."
   ]
  },
  {
   "cell_type": "raw",
   "id": "a2b50b7c",
   "metadata": {},
   "source": [
    ".? - To match any and all text in a non-greedy fashion, use the dot, star, and question mark (.?). Like with braces, the question mark tells Python to match in a non-greedy way."
   ]
  },
  {
   "cell_type": "code",
   "execution_count": 14,
   "id": "7ced600e",
   "metadata": {
    "collapsed": true
   },
   "outputs": [
    {
     "ename": "AttributeError",
     "evalue": "'NoneType' object has no attribute 'group'",
     "output_type": "error",
     "traceback": [
      "\u001b[1;31m---------------------------------------------------------------------------\u001b[0m",
      "\u001b[1;31mAttributeError\u001b[0m                            Traceback (most recent call last)",
      "Cell \u001b[1;32mIn[14], line 3\u001b[0m\n\u001b[0;32m      1\u001b[0m greedyRegex \u001b[38;5;241m=\u001b[39m re\u001b[38;5;241m.\u001b[39mcompile(\u001b[38;5;124mr\u001b[39m\u001b[38;5;124m'\u001b[39m\u001b[38;5;124m<.*>\u001b[39m\u001b[38;5;124m'\u001b[39m)\n\u001b[0;32m      2\u001b[0m mo \u001b[38;5;241m=\u001b[39m greedyRegex\u001b[38;5;241m.\u001b[39msearch(\u001b[38;5;124m'\u001b[39m\u001b[38;5;124m for dinner.>\u001b[39m\u001b[38;5;124m'\u001b[39m)\n\u001b[1;32m----> 3\u001b[0m \u001b[43mmo\u001b[49m\u001b[38;5;241;43m.\u001b[39;49m\u001b[43mgroup\u001b[49m()\n",
      "\u001b[1;31mAttributeError\u001b[0m: 'NoneType' object has no attribute 'group'"
     ]
    }
   ],
   "source": [
    "greedyRegex = re.compile(r'<.*>')\n",
    "mo = greedyRegex.search(' for dinner.>')\n",
    "mo.group()"
   ]
  },
  {
   "cell_type": "code",
   "execution_count": 15,
   "id": "9269c380",
   "metadata": {
    "collapsed": true
   },
   "outputs": [
    {
     "ename": "AttributeError",
     "evalue": "'NoneType' object has no attribute 'group'",
     "output_type": "error",
     "traceback": [
      "\u001b[1;31m---------------------------------------------------------------------------\u001b[0m",
      "\u001b[1;31mAttributeError\u001b[0m                            Traceback (most recent call last)",
      "Cell \u001b[1;32mIn[15], line 3\u001b[0m\n\u001b[0;32m      1\u001b[0m nongreedyRegex \u001b[38;5;241m=\u001b[39m re\u001b[38;5;241m.\u001b[39mcompile(\u001b[38;5;124mr\u001b[39m\u001b[38;5;124m'\u001b[39m\u001b[38;5;124m<.*?>\u001b[39m\u001b[38;5;124m'\u001b[39m)\n\u001b[0;32m      2\u001b[0m mo \u001b[38;5;241m=\u001b[39m nongreedyRegex\u001b[38;5;241m.\u001b[39msearch(\u001b[38;5;124m'\u001b[39m\u001b[38;5;124m for dinner.>\u001b[39m\u001b[38;5;124m'\u001b[39m)\n\u001b[1;32m----> 3\u001b[0m \u001b[43mmo\u001b[49m\u001b[38;5;241;43m.\u001b[39;49m\u001b[43mgroup\u001b[49m()\n",
      "\u001b[1;31mAttributeError\u001b[0m: 'NoneType' object has no attribute 'group'"
     ]
    }
   ],
   "source": [
    "nongreedyRegex = re.compile(r'<.*?>')\n",
    "mo = nongreedyRegex.search(' for dinner.>')\n",
    "mo.group()"
   ]
  },
  {
   "cell_type": "markdown",
   "id": "6641529a",
   "metadata": {},
   "source": [
    "##### 15. What is the syntax for matching both numbers and lowercase letters with a character class?"
   ]
  },
  {
   "cell_type": "raw",
   "id": "0190523a",
   "metadata": {},
   "source": [
    "Either [0-9a-z] or [a-z0-9]"
   ]
  },
  {
   "cell_type": "code",
   "execution_count": 17,
   "id": "bf57845d",
   "metadata": {},
   "outputs": [
    {
     "data": {
      "text/plain": [
       "'1'"
      ]
     },
     "execution_count": 17,
     "metadata": {},
     "output_type": "execute_result"
    }
   ],
   "source": [
    "reg1 = re.compile(r'[0-9a-z]')\n",
    "reg2 = re.compile(r'[a-z0-9]')\n",
    "\n",
    "mo1 = reg1.search('100 times I am Reading  this for 100 th time')\n",
    "mo1.group()"
   ]
  },
  {
   "cell_type": "code",
   "execution_count": 18,
   "id": "e7c21927",
   "metadata": {},
   "outputs": [
    {
     "data": {
      "text/plain": [
       "'t'"
      ]
     },
     "execution_count": 18,
     "metadata": {},
     "output_type": "execute_result"
    }
   ],
   "source": [
    "reg2 = re.compile(r'[a-z0-9]')\n",
    "\n",
    "mo1 = reg2.search('times I am Reading  this for 100 th time')\n",
    "mo1.group()"
   ]
  },
  {
   "cell_type": "markdown",
   "id": "cdf1d046",
   "metadata": {},
   "source": [
    "##### 16. What is the procedure for making a normal expression in regax case insensitive?"
   ]
  },
  {
   "cell_type": "raw",
   "id": "04047b70",
   "metadata": {},
   "source": [
    "Passing re.I or re.IGNORECASE as the second argument to re.compile() will make the matching case insensitive"
   ]
  },
  {
   "cell_type": "code",
   "execution_count": 19,
   "id": "d45d33ce",
   "metadata": {},
   "outputs": [
    {
     "data": {
      "text/plain": [
       "'Machine'"
      ]
     },
     "execution_count": 19,
     "metadata": {},
     "output_type": "execute_result"
    }
   ],
   "source": [
    "casesen = re.compile(r'machine', re.I)\n",
    "casesen.search('Machine learning is part of data science').group()"
   ]
  },
  {
   "cell_type": "code",
   "execution_count": 20,
   "id": "6ee449cf",
   "metadata": {},
   "outputs": [
    {
     "data": {
      "text/plain": [
       "'MACHINE'"
      ]
     },
     "execution_count": 20,
     "metadata": {},
     "output_type": "execute_result"
    }
   ],
   "source": [
    "casesen.search('MACHINE is learning.').group()"
   ]
  },
  {
   "cell_type": "markdown",
   "id": "877058f0",
   "metadata": {},
   "source": [
    "##### 17. What does the . character normally match? What does it match if re.DOTALL is passed as 2nd argument in re.compile()?"
   ]
  },
  {
   "cell_type": "raw",
   "id": "7c0c4c89",
   "metadata": {},
   "source": [
    "The . character normally matches any character except the newline character.\n",
    "\n",
    "If re.DOTALL is passed as the second argument to re.compile(), then the dot will also match newline characters."
   ]
  },
  {
   "cell_type": "markdown",
   "id": "6a52d621",
   "metadata": {},
   "source": [
    "##### 18. If numReg = re.compile(r'\\d+'), what will numRegex.sub('X', '11 drummers, 10 pipers, five rings, 4 hen') return?"
   ]
  },
  {
   "cell_type": "code",
   "execution_count": 21,
   "id": "b604d857",
   "metadata": {},
   "outputs": [
    {
     "data": {
      "text/plain": [
       "'X drummers, X pipers, five rings, X hen'"
      ]
     },
     "execution_count": 21,
     "metadata": {},
     "output_type": "execute_result"
    }
   ],
   "source": [
    "numRegex = re.compile(r'\\d+')\n",
    "mo = numRegex.sub('X', '11 drummers, 10 pipers, five rings, 4 hen')\n",
    "mo"
   ]
  },
  {
   "cell_type": "markdown",
   "id": "429fd528",
   "metadata": {},
   "source": [
    "###### 19. What does passing re.VERBOSE as the 2nd argument to re.compile() allow to do?"
   ]
  },
  {
   "cell_type": "raw",
   "id": "931e5a9e",
   "metadata": {},
   "source": [
    "The re.VERBOSE argument allows you to add whitespace and comments to the string passed to re.compile()"
   ]
  },
  {
   "cell_type": "markdown",
   "id": "6f535a52",
   "metadata": {},
   "source": [
    "###### 20. How would you write a regex that match a number with comma for every three digits? It must match the given following:\n",
    "    '42'\n",
    "    '1,234'\n",
    "    '6,368,745'\n",
    "    but not the following:\n",
    "    '12,34,567' (which has only two digits between the commas)\n",
    "    '1234' (which lacks commas)"
   ]
  },
  {
   "cell_type": "code",
   "execution_count": 23,
   "id": "14dfcf51",
   "metadata": {},
   "outputs": [
    {
     "data": {
      "text/plain": [
       "'42'"
      ]
     },
     "execution_count": 23,
     "metadata": {},
     "output_type": "execute_result"
    }
   ],
   "source": [
    "reg1 = re.compile(r'^\\d{1,3}(,\\d{3})*$')\n",
    "mo1 = reg1.search('42')\n",
    "mo1.group()"
   ]
  },
  {
   "cell_type": "code",
   "execution_count": 24,
   "id": "f9b08c5b",
   "metadata": {},
   "outputs": [
    {
     "data": {
      "text/plain": [
       "'1,234'"
      ]
     },
     "execution_count": 24,
     "metadata": {},
     "output_type": "execute_result"
    }
   ],
   "source": [
    "reg1 = re.compile(r'^\\d{1,3}(,\\d{3})*$')\n",
    "mo1 = reg1.search('1,234')\n",
    "mo1.group()"
   ]
  },
  {
   "cell_type": "code",
   "execution_count": 25,
   "id": "a8f5d72d",
   "metadata": {},
   "outputs": [
    {
     "data": {
      "text/plain": [
       "'6,368,745'"
      ]
     },
     "execution_count": 25,
     "metadata": {},
     "output_type": "execute_result"
    }
   ],
   "source": [
    "reg1 = re.compile(r'^\\d{1,3}(,\\d{3})*$')\n",
    "mo1 = reg1.search('6,368,745')\n",
    "mo1.group()"
   ]
  },
  {
   "cell_type": "markdown",
   "id": "1dc2e466",
   "metadata": {},
   "source": [
    "###### 21. How would you write a regex that matches the full name of someone whose last name is Watanabe? You can assume that the first name that comes before it will always be one word that begins with a capital letter. The regex must match the following:\n",
    "    'Haruto Watanabe'\n",
    "    'Alice Watanabe'\n",
    "    'RoboCop Watanabe'\n",
    "    but not the following:\n",
    "    'haruto Watanabe' (where the first name is not capitalized)\n",
    "    'Mr. Watanabe' (where the preceding word has a nonletter character)\n",
    "    'Watanabe' (which has no first name)\n",
    "    'Haruto watanabe' (where Watanabe is not capitalized)"
   ]
  },
  {
   "cell_type": "code",
   "execution_count": 26,
   "id": "1a1a1912",
   "metadata": {},
   "outputs": [
    {
     "data": {
      "text/plain": [
       "'Haruto Watanabe'"
      ]
     },
     "execution_count": 26,
     "metadata": {},
     "output_type": "execute_result"
    }
   ],
   "source": [
    "name = re.compile(r'[A-Z][a-z]*\\sWatanabe')\n",
    "reg1 = re.compile(r'^\\d{1,3}(,\\d{haruto Watanabe3})*$')\n",
    "mo1 = name.search('Haruto Watanabe')\n",
    "mo1.group()"
   ]
  },
  {
   "cell_type": "code",
   "execution_count": 27,
   "id": "d72e26b4",
   "metadata": {},
   "outputs": [
    {
     "data": {
      "text/plain": [
       "'Alice Watanabe'"
      ]
     },
     "execution_count": 27,
     "metadata": {},
     "output_type": "execute_result"
    }
   ],
   "source": [
    "name = re.compile(r'[A-Z][a-z]*\\sWatanabe')\n",
    "reg1 = re.compile(r'^\\d{1,3}(,\\d{3})*$')\n",
    "mo1 = name.search('Alice Watanabe')\n",
    "mo1.group()  "
   ]
  },
  {
   "cell_type": "code",
   "execution_count": 28,
   "id": "4e02e6d7",
   "metadata": {},
   "outputs": [
    {
     "data": {
      "text/plain": [
       "'Robocop Watanabe'"
      ]
     },
     "execution_count": 28,
     "metadata": {},
     "output_type": "execute_result"
    }
   ],
   "source": [
    "name = re.compile(r'[A-Z][a-z]*\\sWatanabe')\n",
    "reg1 = re.compile(r'^\\d{1,3}(,\\d{3})*$')\n",
    "mo1 = name.search('Robocop Watanabe')\n",
    "mo1.group()"
   ]
  },
  {
   "cell_type": "markdown",
   "id": "1377e701",
   "metadata": {},
   "source": [
    "###### 22. How would you write a regex that matches a sentence where the first word is either Alice, Bob, or Carol; the second word is either eats, pets, or throws; the third word is apples, cats, or baseballs; and the sentence ends with a period? This regex should be case-insensitive. It must match the following:\n",
    "    'Alice eats apples.'\n",
    "    'Bob pets cats.'\n",
    "    'Carol throws baseballs.'\n",
    "    'Alice throws Apples.'\n",
    "    'BOB EATS CATS.'\n",
    "    but not the following:\n",
    "    'RoboCop eats apples.'\n",
    "    'ALICE THROWS FOOTBALLS.'\n",
    "    'Carol eats 7 cats.'"
   ]
  },
  {
   "cell_type": "code",
   "execution_count": 29,
   "id": "b7af2f6b",
   "metadata": {},
   "outputs": [
    {
     "data": {
      "text/plain": [
       "'Alice eats apples.'"
      ]
     },
     "execution_count": 29,
     "metadata": {},
     "output_type": "execute_result"
    }
   ],
   "source": [
    "name = re.compile(r'(Alice|Bob|Carol)\\s(eats|pets|throws)\\s(apples|cats|baseballs)\\.', re.IGNORECASE)\n",
    "\n",
    "mo1 = name.search('Alice eats apples.')\n",
    "mo1.group()"
   ]
  },
  {
   "cell_type": "code",
   "execution_count": 30,
   "id": "3ec4676f",
   "metadata": {},
   "outputs": [
    {
     "data": {
      "text/plain": [
       "'Carol throws baseballs.'"
      ]
     },
     "execution_count": 30,
     "metadata": {},
     "output_type": "execute_result"
    }
   ],
   "source": [
    "name = re.compile(r'(Alice|Bob|Carol)\\s(eats|pets|throws)\\s(apples|cats|baseballs)\\.', re.IGNORECASE)\n",
    "\n",
    "mo1 = name.search('Carol throws baseballs.')\n",
    "mo1.group()"
   ]
  },
  {
   "cell_type": "code",
   "execution_count": null,
   "id": "049c29aa",
   "metadata": {},
   "outputs": [],
   "source": []
  }
 ],
 "metadata": {
  "kernelspec": {
   "display_name": "Python 3 (ipykernel)",
   "language": "python",
   "name": "python3"
  },
  "language_info": {
   "codemirror_mode": {
    "name": "ipython",
    "version": 3
   },
   "file_extension": ".py",
   "mimetype": "text/x-python",
   "name": "python",
   "nbconvert_exporter": "python",
   "pygments_lexer": "ipython3",
   "version": "3.10.9"
  }
 },
 "nbformat": 4,
 "nbformat_minor": 5
}
